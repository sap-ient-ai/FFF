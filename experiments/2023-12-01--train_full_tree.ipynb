{
 "cells": [
  {
   "cell_type": "markdown",
   "metadata": {},
   "source": [
    "# Train Full Tree\n",
    "\n",
    "The first paper version suggests using the WHOLE tree during training, and ONLY\n",
    "during inference do we choose a single path thru the tree.\n",
    "\n",
    "Notice the `p` and `1-p` in the diagram.\n",
    "\n",
    "So let's do it!\n",
    "\n",
    "```\n",
    "Accuracy of the network over test images: 97.370 %\n",
    "```\n"
   ]
  },
  {
   "cell_type": "code",
   "execution_count": 1,
   "metadata": {},
   "outputs": [],
   "source": [
    "EVERY_N = 200\n",
    "NEPOCH = 1\n",
    "BATCH_SIZE = 128\n",
    "INIT_STRAT = 'hyperspherical-shell'\n",
    "DEPTH = 8\n"
   ]
  },
  {
   "cell_type": "code",
   "execution_count": 2,
   "metadata": {},
   "outputs": [],
   "source": [
    "import torch as torch\n",
    "import torch.nn as nn\n",
    "from typing import Optional\n",
    "from math import floor, log2, sqrt\n",
    "import torch.nn.functional as F\n",
    "import torch.optim as optim\n",
    "from tqdm import tqdm"
   ]
  },
  {
   "cell_type": "code",
   "execution_count": 3,
   "metadata": {},
   "outputs": [
    {
     "name": "stdout",
     "output_type": "stream",
     "text": [
      "Testing training:\n",
      "x.grad: tensor([[-0.0915, -0.4196, -0.4384,  0.3333,  0.4608,  0.0976,  0.5762, -0.6377,\n",
      "         -0.4291,  0.0791],\n",
      "        [-0.0241, -0.0702, -0.0911,  0.0158,  0.0300, -0.0136,  0.0750, -0.0916,\n",
      "          0.0019,  0.0147]])\n",
      "Testing inference:\n",
      "y: tensor([[ 0.0445,  0.3534, -0.2324,  0.1784, -0.3330, -0.0412, -0.6443,  0.3417,\n",
      "          0.1268, -0.1882],\n",
      "        [-0.1466, -0.0334, -0.0481,  0.0902, -0.3356, -0.3017,  0.3522, -0.0384,\n",
      "          0.4485,  0.2918]], grad_fn=<AddBackward0>)\n"
     ]
    }
   ],
   "source": [
    "class FFF(nn.Module):\n",
    "    def __init__(self, nIn: int, nOut: int, depth: Optional[int] = None):\n",
    "        super().__init__()\n",
    "        self.depth = depth or int(floor(log2(nIn)))  # depth is the number of decision boundaries\n",
    "        nNodes = 2 ** self.depth - 1\n",
    "\n",
    "        # each node \"holds\" a basis-vector in INPUT space (.X) and in OUTPUT space (.Y)\n",
    "\n",
    "        if INIT_STRAT == 'gaussian':\n",
    "            # This from orig authors; scaling looks off for self.Y\n",
    "            def create_basis_vectors_of(length, scaling):\n",
    "                return nn.Parameter(torch.empty(nNodes, length).uniform_(-scaling, scaling))\n",
    "            self.X = create_basis_vectors_of(length=nIn, scaling=1/sqrt(nIn))\n",
    "            self.Y = create_basis_vectors_of(length=nOut, scaling=1/sqrt(self.depth + 1))\n",
    "\n",
    "        elif INIT_STRAT == 'hyperspherical-shell':\n",
    "            # Initialize vectors on INPUT/OUTPUT space unit hypersphere\n",
    "            #   (idea: basis vectors should be of unit length).\n",
    "            def create_random_unit_vectors_of(length):\n",
    "                weights = torch.randn(nNodes, length)  # Initialize weights randomly\n",
    "                weights = F.normalize(weights, p=2, dim=-1)  # L2-Normalize along the last dimension\n",
    "                return nn.Parameter(weights)\n",
    "            self.X = create_random_unit_vectors_of(length=nIn)\n",
    "            self.Y = create_random_unit_vectors_of(length=nOut)\n",
    "\n",
    "    def forward(self, x: torch.Tensor):\n",
    "        nBatch, nOut, nNodes = x.shape[0], self.Y.shape[-1], 2 ** self.depth - 1\n",
    "        is_training = x.requires_grad\n",
    "    \n",
    "        # Walk the tree, assembling y piecemeal\n",
    "        y = torch.zeros((nBatch, nOut), dtype=torch.float, device=x.device, requires_grad=True)\n",
    "        \n",
    "        if is_training:\n",
    "            def process_node(nodeIndex, p_in):\n",
    "                nonlocal y\n",
    "                if nodeIndex >= nNodes:\n",
    "                    return\n",
    "\n",
    "                # Project x onto the current node's INPUT basis vector\n",
    "                #   λ = x DOT currNode.X\n",
    "                # (nBatch, nIn) nIn -> nBatch\n",
    "                λ = torch.einsum('bi, i -> b', x, self.X[nodeIndex])\n",
    "\n",
    "                # Project this contribution into OUTPUT space:\n",
    "                #   y += λ currNode.Y\n",
    "                # nBatch, nOut -> (nBatch, nOut)\n",
    "                # y += torch.einsum(\"b, j -> b j\", λ, self.Y[nodeIndex])\n",
    "                dy = torch.einsum('b,j -> bj', λ, self.Y[nodeIndex])\n",
    "                y = y + torch.einsum('b, bj -> bj', p_in, dy)\n",
    "\n",
    "                # ChatGPT says we can elide:\n",
    "                # y += torch.einsum(\"b, j, b -> b j\", p_in, self.Y[nodeIndex], λ)\n",
    "\n",
    "                # e.g.\n",
    "                #   λ = -10, so p ~ 0.0, so 1-p is HIGH\n",
    "                #   ... and we want to give HIGH weight to the LEFT node\n",
    "                #   ... so THAT gets the 1-p\n",
    "                p = torch.sigmoid(λ)\n",
    "                process_node((nodeIndex * 2) + 1, 1-p)\n",
    "                process_node((nodeIndex * 2) + 2, p)\n",
    "\n",
    "                # TODO: penalize p close to 0.5:\n",
    "                #   cost = .5**2 - (p - 0.5)**2\n",
    "\n",
    "            process_node(\n",
    "                nodeIndex=0,\n",
    "                p_in = torch.ones((nBatch), dtype=torch.float, requires_grad=True)\n",
    "            )\n",
    "\n",
    "        else:\n",
    "            def process_node(depth, nodeIndices):\n",
    "                if depth >= self.depth:\n",
    "                    return\n",
    "                \n",
    "                nonlocal y\n",
    "                # Project x onto the current node's INPUT basis vector\n",
    "                #   λ = x DOT currNode.X\n",
    "                # (nBatch, nIn) (nBatch, nIn) -> nBatch\n",
    "                λ = torch.einsum('bi, bi -> b', x, self.X[nodeIndices])\n",
    "\n",
    "                # Project this contribution into OUTPUT space:\n",
    "                #   y += λ currNode.Y\n",
    "                # nBatch, (nBatch, nOut) -> (nBatch, nOut)\n",
    "                y = y + torch.einsum('n, nj -> nj', λ, self.Y[nodeIndices])\n",
    "\n",
    "                # We'll branch right if x is \"sunny-side\" of the\n",
    "                # hyperplane defined by node.x (else left)\n",
    "                branch_choices = (λ > 0).long()  # 1 if λ > 0, else 0, so -ve λ => LEFT, +ve λ => RIGHT\n",
    "\n",
    "                # figure out index of node in next layer to visit\n",
    "                process_node(\n",
    "                    depth+1,\n",
    "                    nodeIndices=(nodeIndices * 2) + 1 + branch_choices\n",
    "                )\n",
    "\n",
    "            process_node(\n",
    "                depth=0,\n",
    "                nodeIndices=torch.zeros(nBatch, dtype=torch.int, device=x.device)\n",
    "            )\n",
    "\n",
    "        return y\n",
    "\n",
    "    def __repr__(self):\n",
    "        return f\"FFF({self.X.shape[-1]}, {self.Y.shape[-1]}, depth={self.depth})\"\n",
    "\n",
    "\n",
    "fff = FFF(nIn=10, nOut=10, depth=2)\n",
    "nBatch = 2\n",
    "\n",
    "print('Testing training:')\n",
    "x = torch.randn((nBatch, 10), requires_grad=True)\n",
    "y = fff(x)\n",
    "cost = torch.norm(y)\n",
    "cost.backward()\n",
    "print('x.grad:', x.grad)\n",
    "\n",
    "print('Testing inference:')\n",
    "x = torch.randn((nBatch, 10), requires_grad=False)\n",
    "y = fff(x)\n",
    "print('y:', y)\n"
   ]
  },
  {
   "cell_type": "code",
   "execution_count": 4,
   "metadata": {},
   "outputs": [],
   "source": [
    "# Load MNIST\n",
    "import torchvision\n",
    "import torchvision.transforms as transforms\n",
    "\n",
    "def load_MNIST():\n",
    "    # Transformations\n",
    "    transform = transforms.Compose([transforms.ToTensor(), transforms.Normalize((0.5,), (0.5,))])\n",
    "\n",
    "    # MNIST dataset\n",
    "    trainset = torchvision.datasets.MNIST(root='./data', train=True, download=True, transform=transform)\n",
    "    testset = torchvision.datasets.MNIST(root='./data', train=False, download=True, transform=transform)\n",
    "\n",
    "    # Data loaders\n",
    "    trainloader = torch.utils.data.DataLoader(trainset, batch_size=BATCH_SIZE, shuffle=True)\n",
    "    testloader = torch.utils.data.DataLoader(testset, batch_size=len(testset), shuffle=False)\n",
    "\n",
    "    return trainloader, testloader\n",
    "\n",
    "trainloader, testloader = load_MNIST()"
   ]
  },
  {
   "cell_type": "code",
   "execution_count": 13,
   "metadata": {},
   "outputs": [],
   "source": [
    "\n",
    "# Test harness\n",
    "# We'll use this later\n",
    "def orthogonality_loss(basis_vectors):\n",
    "    # Compute pairwise dot products\n",
    "    dot_products = torch.matmul(basis_vectors, basis_vectors.T)\n",
    "    \n",
    "    # Zero out diagonal elements (self dot products)\n",
    "    eye = torch.eye(dot_products.size(0)).to(dot_products.device)\n",
    "    dot_products = dot_products * (1 - eye)\n",
    "    \n",
    "    # Sum of squares of off-diagonal elements (which should be close to zero)\n",
    "    loss = (dot_products ** 2).sum()\n",
    "    return loss\n",
    "\n",
    "def train_and_test(net, ortho=False):\n",
    "    # Loss function and optimizer\n",
    "    criterion = nn.CrossEntropyLoss()\n",
    "    optimizer = optim.AdamW(net.parameters(), lr=0.001) #, momentum=0.9)\n",
    "\n",
    "    # Training the network\n",
    "    for epoch in range(NEPOCH):  # loop over the dataset multiple times\n",
    "        running_loss = 0.0\n",
    "        for i, data in enumerate(trainloader, 0):\n",
    "            inputs, labels = data\n",
    "\n",
    "            optimizer.zero_grad()\n",
    "            outputs = net(inputs)\n",
    "            loss = criterion(outputs, labels)\n",
    "            if ortho:  # hasattr(net, 'orthogonality_penalty'):\n",
    "                loss += .001 * net.orthogonality_penalty()\n",
    "            loss.backward()\n",
    "            optimizer.step()\n",
    "\n",
    "            running_loss += loss.item()\n",
    "            if i % EVERY_N == EVERY_N - 1:  # print EVERY_N mini-batches\n",
    "                print(f'[{epoch + 1}, {i + 1:5d}] loss: {running_loss / EVERY_N:.3f}')\n",
    "                running_loss = 0.0\n",
    "\n",
    "        # Testing the network on the test data\n",
    "        correct, total = 0, 0\n",
    "        with torch.no_grad():\n",
    "            for data in testloader:\n",
    "                images, labels = data\n",
    "                outputs = net(images)\n",
    "                _, predicted = torch.max(outputs.data, 1)\n",
    "                total += labels.size(0)\n",
    "                correct += (predicted == labels).sum().item()\n",
    "\n",
    "        print(f'[{epoch}] Accuracy of the network over test images: {100 * correct / total:.3f} %')\n"
   ]
  },
  {
   "cell_type": "code",
   "execution_count": 6,
   "metadata": {},
   "outputs": [],
   "source": [
    "# Neural network architecture\n",
    "class Net(nn.Module):\n",
    "    def __init__(self):\n",
    "        super(Net, self).__init__()\n",
    "        self.fc1 = FFF(nIn=28*28, nOut=500, depth=DEPTH)\n",
    "        self.fc2 = FFF(nIn=500, nOut=10, depth=DEPTH)\n",
    "    def forward(self, x):\n",
    "        x = x.view(-1, 28*28)\n",
    "        y_hat = self.fc2(torch.relu(self.fc1(x)))\n",
    "        # y_hat = self.fc2(self.fc1(x))\n",
    "        return y_hat\n",
    "    def orthogonality_penalty(self):\n",
    "        # Calculate orthogonality loss for each PiSlice layer\n",
    "        loss1 = orthogonality_loss(self.fc1.X) + orthogonality_loss(self.fc1.Y)\n",
    "        loss2 = orthogonality_loss(self.fc2.X) + orthogonality_loss(self.fc2.Y)\n",
    "        return loss1 + loss2"
   ]
  },
  {
   "cell_type": "code",
   "execution_count": 7,
   "metadata": {},
   "outputs": [
    {
     "name": "stderr",
     "output_type": "stream",
     "text": [
      "  0%|          | 0/1 [00:00<?, ?it/s]"
     ]
    },
    {
     "name": "stdout",
     "output_type": "stream",
     "text": [
      "[1,   200] loss: 0.759\n",
      "[1,   400] loss: 0.406\n"
     ]
    },
    {
     "name": "stderr",
     "output_type": "stream",
     "text": [
      "100%|██████████| 1/1 [01:35<00:00, 95.79s/it]"
     ]
    },
    {
     "name": "stdout",
     "output_type": "stream",
     "text": [
      "[0] Accuracy of the network over test images: 52.150 %\n"
     ]
    },
    {
     "name": "stderr",
     "output_type": "stream",
     "text": [
      "\n"
     ]
    }
   ],
   "source": [
    "train_and_test(Net())\n",
    "# train_and_test(Net(), ortho=True)"
   ]
  },
  {
   "cell_type": "markdown",
   "metadata": {},
   "source": [
    "# 🔸 CIFAR10"
   ]
  },
  {
   "cell_type": "code",
   "execution_count": 8,
   "metadata": {},
   "outputs": [
    {
     "name": "stdout",
     "output_type": "stream",
     "text": [
      "Files already downloaded and verified\n",
      "Files already downloaded and verified\n"
     ]
    }
   ],
   "source": [
    "import torchvision\n",
    "import torchvision.transforms as transforms\n",
    "import torch\n",
    "\n",
    "def load_CIFAR10():\n",
    "    # https://github.com/microsoft/debugpy/issues/1166\n",
    "    # ^ set nWorkers=1 to avoid this\n",
    "    def create_dataloader(train, nBatch, shuffle, nWorkers=1):\n",
    "        dataset = torchvision.datasets.CIFAR10(\n",
    "            root='./data', train=train, download=True, transform=transform\n",
    "        )\n",
    "        return torch.utils.data.DataLoader(\n",
    "            dataset, batch_size=nBatch, shuffle=shuffle, num_workers=nWorkers\n",
    "        )\n",
    "\n",
    "    transform = transforms.Compose([\n",
    "        transforms.ToTensor(),\n",
    "        transforms.Normalize((0.5, 0.5, 0.5), (0.5, 0.5, 0.5))\n",
    "    ])\n",
    "\n",
    "    trainloader = create_dataloader(train=True, nBatch=BATCH_SIZE, shuffle=True)\n",
    "    testloader = create_dataloader(train=False, nBatch=1024, shuffle=False)\n",
    "\n",
    "    # Class labels\n",
    "    classes = 'plane car bird cat deer dog frog horse ship truck'.split()\n",
    "    \n",
    "    return trainloader, testloader, classes\n",
    "\n",
    "trainloader, testloader, classes = load_CIFAR10()\n"
   ]
  },
  {
   "cell_type": "code",
   "execution_count": 9,
   "metadata": {},
   "outputs": [],
   "source": [
    "import torch.nn as nn\n",
    "\n",
    "class Net_regular(nn.Module):\n",
    "    def __init__(self):\n",
    "        super().__init__()\n",
    "        self.conv1 = nn.Conv2d(in_channels=3, out_channels=6, kernel_size=5)\n",
    "        self.pool = nn.MaxPool2d(kernel_size=2, stride=2)\n",
    "        self.conv2 = nn.Conv2d(in_channels=6, out_channels=16, kernel_size=5)\n",
    "        self.fc1 = nn.Linear(in_features=16 * 5 * 5, out_features=120)\n",
    "        self.fc2 = nn.Linear(in_features=120, out_features=84)\n",
    "        self.fc3 = nn.Linear(in_features=84, out_features=10)\n",
    "\n",
    "    def forward(self, x):\n",
    "        x = self.pool(F.relu(self.conv1(x)))\n",
    "        x = self.pool(F.relu(self.conv2(x)))\n",
    "        x = torch.flatten(x, start_dim=1)\n",
    "        x = F.relu(self.fc1(x))\n",
    "        x = F.relu(self.fc2(x))\n",
    "        x = self.fc3(x)\n",
    "        return x\n",
    "\n",
    "class Net_FFF(nn.Module):\n",
    "    def __init__(self):\n",
    "        super().__init__()\n",
    "        self.conv1 = nn.Conv2d(in_channels=3, out_channels=6, kernel_size=5)\n",
    "        self.pool = nn.MaxPool2d(kernel_size=2, stride=2)\n",
    "        self.conv2 = nn.Conv2d(in_channels=6, out_channels=16, kernel_size=5)\n",
    "        self.fc1 = FFF(nIn=16 * 5 * 5, nOut=120)\n",
    "        self.fc2 = FFF(nIn=120, nOut=84)\n",
    "        self.fc3 = FFF(nIn=84, nOut=10)\n",
    "\n",
    "    def forward(self, x):\n",
    "        x = self.pool(F.relu(self.conv1(x)))\n",
    "        x = self.pool(F.relu(self.conv2(x)))\n",
    "        x = torch.flatten(x, start_dim=1)\n",
    "        x = F.relu(self.fc1(x))\n",
    "        x = F.relu(self.fc2(x))\n",
    "        x = self.fc3(x)\n",
    "        return x"
   ]
  },
  {
   "cell_type": "code",
   "execution_count": 15,
   "metadata": {},
   "outputs": [
    {
     "name": "stderr",
     "output_type": "stream",
     "text": [
      "0.00s - Debugger warning: It seems that frozen modules are being used, which may\n",
      "0.00s - make the debugger miss breakpoints. Please pass -Xfrozen_modules=off\n",
      "0.00s - to python to disable frozen modules.\n",
      "0.00s - Note: Debugging will proceed. Set PYDEVD_DISABLE_FILE_VALIDATION=1 to disable this validation.\n",
      "ERROR:tornado.general:SEND Error: Host unreachable\n"
     ]
    },
    {
     "name": "stdout",
     "output_type": "stream",
     "text": [
      "[1,   200] loss: 1.851\n"
     ]
    },
    {
     "name": "stderr",
     "output_type": "stream",
     "text": [
      "0.00s - Debugger warning: It seems that frozen modules are being used, which may\n",
      "0.00s - make the debugger miss breakpoints. Please pass -Xfrozen_modules=off\n",
      "0.00s - to python to disable frozen modules.\n",
      "0.00s - Note: Debugging will proceed. Set PYDEVD_DISABLE_FILE_VALIDATION=1 to disable this validation.\n"
     ]
    }
   ],
   "source": [
    "net = Net_regular()\n",
    "train_and_test(net)"
   ]
  },
  {
   "cell_type": "code",
   "execution_count": 11,
   "metadata": {},
   "outputs": [
    {
     "name": "stderr",
     "output_type": "stream",
     "text": [
      "  0%|          | 0/1 [00:00<?, ?it/s]"
     ]
    },
    {
     "name": "stdout",
     "output_type": "stream",
     "text": [
      "[1,   200] loss: 1.791\n"
     ]
    },
    {
     "name": "stderr",
     "output_type": "stream",
     "text": [
      "100%|██████████| 1/1 [01:59<00:00, 119.52s/it]"
     ]
    },
    {
     "name": "stdout",
     "output_type": "stream",
     "text": [
      "[0] Accuracy of the network over test images: 11.070 %\n"
     ]
    },
    {
     "name": "stderr",
     "output_type": "stream",
     "text": [
      "\n"
     ]
    }
   ],
   "source": [
    "train_and_test(Net_FFF())\n"
   ]
  },
  {
   "cell_type": "code",
   "execution_count": null,
   "metadata": {},
   "outputs": [],
   "source": []
  }
 ],
 "metadata": {
  "kernelspec": {
   "display_name": ".venv",
   "language": "python",
   "name": "python3"
  },
  "language_info": {
   "codemirror_mode": {
    "name": "ipython",
    "version": 3
   },
   "file_extension": ".py",
   "mimetype": "text/x-python",
   "name": "python",
   "nbconvert_exporter": "python",
   "pygments_lexer": "ipython3",
   "version": "3.11.6"
  }
 },
 "nbformat": 4,
 "nbformat_minor": 2
}
