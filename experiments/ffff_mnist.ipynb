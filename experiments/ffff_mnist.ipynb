{
 "cells": [
  {
   "cell_type": "code",
   "execution_count": 1,
   "metadata": {},
   "outputs": [],
   "source": [
    "%load_ext autoreload\n",
    "%autoreload 2"
   ]
  },
  {
   "cell_type": "code",
   "execution_count": 2,
   "metadata": {},
   "outputs": [],
   "source": [
    "NEPOCH = 10"
   ]
  },
  {
   "cell_type": "code",
   "execution_count": 3,
   "metadata": {},
   "outputs": [],
   "source": [
    "from torch import nn, functional as F\n",
    "import math\n",
    "import torch\n",
    "import torch.nn as nn\n",
    "import torch.nn.functional as F\n",
    "import torch.optim as optim\n",
    "from tqdm import tqdm"
   ]
  },
  {
   "cell_type": "code",
   "execution_count": 4,
   "metadata": {},
   "outputs": [
    {
     "name": "stdout",
     "output_type": "stream",
     "text": [
      "/Users/solar/Code/DL/FFF/FFF\n"
     ]
    }
   ],
   "source": [
    "cd .."
   ]
  },
  {
   "cell_type": "code",
   "execution_count": 5,
   "metadata": {},
   "outputs": [],
   "source": [
    "from FFF.ffff import F4"
   ]
  },
  {
   "cell_type": "code",
   "execution_count": 6,
   "metadata": {},
   "outputs": [],
   "source": [
    "# many ways how to run forest model \n",
    "# inside one tree we branch simply based on a sign of projection\n",
    "# if we have two trees than we will have two projection\n",
    "# we can:\n",
    "#   branch independently\n",
    "#   branch jointly based on largest projection ~ in terms of abs value!\n",
    "#   but we can not use abs due to non-differentiability\n",
    "#   thus we need to rely on some sign-insensitive normalization "
   ]
  },
  {
   "cell_type": "code",
   "execution_count": 7,
   "metadata": {},
   "outputs": [],
   "source": [
    "B, C_in, C_out, N_tr, D = 7, 20, 30, 3, 6\n",
    "M = F4(in_features=C_in, out_features=C_out, num_trees=N_tr, depth=D)"
   ]
  },
  {
   "cell_type": "code",
   "execution_count": 8,
   "metadata": {},
   "outputs": [
    {
     "data": {
      "text/plain": [
       "(torch.Size([63, 3, 20]), torch.Size([63, 3, 30]))"
      ]
     },
     "execution_count": 8,
     "metadata": {},
     "output_type": "execute_result"
    }
   ],
   "source": [
    "M.keys.shape, M.values.shape"
   ]
  },
  {
   "cell_type": "code",
   "execution_count": 10,
   "metadata": {},
   "outputs": [
    {
     "data": {
      "text/plain": [
       "(torch.Size([3, 20]), torch.Size([3, 20]))"
      ]
     },
     "execution_count": 10,
     "metadata": {},
     "output_type": "execute_result"
    }
   ],
   "source": [
    "M.keys[[0,1,3],[0,1,2]].shape, M.keys[[0,0,0],[0,1,2]].shape"
   ]
  },
  {
   "cell_type": "markdown",
   "metadata": {},
   "source": [
    "#### Example of a Forest model forward"
   ]
  },
  {
   "cell_type": "code",
   "execution_count": 15,
   "metadata": {},
   "outputs": [
    {
     "name": "stdout",
     "output_type": "stream",
     "text": [
      "torch.Size([7, 30]) torch.Size([7, 3]) torch.Size([7, 3])\n",
      "Plane choices are independent for each tree:\n",
      " tensor([[1, 0, 1],\n",
      "        [1, 1, 1],\n",
      "        [1, 1, 1],\n",
      "        [1, 0, 1],\n",
      "        [1, 1, 0],\n",
      "        [1, 1, 1],\n",
      "        [1, 1, 1]])\n"
     ]
    }
   ],
   "source": [
    "x = torch.rand(B, C_in)\n",
    "y = torch.zeros((B, C_out), dtype=torch.float)\n",
    "\n",
    "current_nodes = torch.zeros(B, N_tr, dtype=torch.long) \n",
    "tree_selector = torch.arange(N_tr, dtype=torch.long) # [0,1,2,...]\n",
    "\n",
    "# here we use \"block-diagonal\" selection on second dimension\n",
    "lambda_ = torch.einsum(\n",
    "        \"bi, bki -> bk\", x, M.keys[current_nodes, tree_selector]\n",
    "    )\n",
    "\n",
    "# optional normalization\n",
    "# Note: softmax would always give positive lambdas / branch to the right\n",
    "# and thus \"kill\" part of the tree, use L2\n",
    "\n",
    "y += torch.einsum(\n",
    "    \"bk, bkj -> bj\", lambda_, M.values[current_nodes, tree_selector]\n",
    ")\n",
    "\n",
    "plane_choice = (lambda_ > 0).long()\n",
    "\n",
    "# figure out index of node in next layer to visit\n",
    "current_nodes = (current_nodes * 2) + 1 + plane_choice\n",
    "\n",
    "print(y.shape, lambda_.shape, current_nodes.shape)\n",
    "print('Plane choices are independent for each tree:\\n', plane_choice)"
   ]
  },
  {
   "cell_type": "code",
   "execution_count": 12,
   "metadata": {},
   "outputs": [
    {
     "data": {
      "text/plain": [
       "tensor([[2, 2, 1],\n",
       "        [2, 1, 2],\n",
       "        [2, 1, 2],\n",
       "        [2, 2, 2],\n",
       "        [2, 2, 2],\n",
       "        [2, 2, 2],\n",
       "        [2, 2, 2]])"
      ]
     },
     "execution_count": 12,
     "metadata": {},
     "output_type": "execute_result"
    }
   ],
   "source": [
    "current_nodes"
   ]
  },
  {
   "cell_type": "markdown",
   "metadata": {},
   "source": [
    "#### Benchmark on MNISN"
   ]
  },
  {
   "cell_type": "code",
   "execution_count": 25,
   "metadata": {},
   "outputs": [],
   "source": [
    "from models.F4_net import F4_mnist\n",
    "from models.F3_net import F3_net\n",
    "from math import log2, floor"
   ]
  },
  {
   "cell_type": "code",
   "execution_count": 21,
   "metadata": {},
   "outputs": [],
   "source": [
    "from bench_mnist import training_loop, run_test"
   ]
  },
  {
   "cell_type": "code",
   "execution_count": 18,
   "metadata": {},
   "outputs": [],
   "source": [
    "in_features = 28*28\n",
    "num_trees = 4\n",
    "depth = int(floor(log2(in_features)))\n",
    "depth_fair = depth - num_trees"
   ]
  },
  {
   "cell_type": "code",
   "execution_count": 19,
   "metadata": {},
   "outputs": [
    {
     "data": {
      "text/plain": [
       "(9, 5)"
      ]
     },
     "execution_count": 19,
     "metadata": {},
     "output_type": "execute_result"
    }
   ],
   "source": [
    "depth, depth_fair"
   ]
  },
  {
   "attachments": {},
   "cell_type": "markdown",
   "metadata": {},
   "source": [
    "##### F4 net test on MNIST"
   ]
  },
  {
   "cell_type": "code",
   "execution_count": 20,
   "metadata": {},
   "outputs": [],
   "source": [
    "Net = F4_mnist(in_features=28*28, hidden_features=500, out_classes=10, num_trees=4)"
   ]
  },
  {
   "cell_type": "code",
   "execution_count": 22,
   "metadata": {},
   "outputs": [
    {
     "name": "stderr",
     "output_type": "stream",
     "text": [
      "100%|██████████| 10/10 [02:58<00:00, 17.80s/it]"
     ]
    },
    {
     "name": "stdout",
     "output_type": "stream",
     "text": [
      "Finished Training\n"
     ]
    },
    {
     "name": "stderr",
     "output_type": "stream",
     "text": [
      "\n"
     ]
    },
    {
     "data": {
      "text/plain": [
       "[413.70457230880857,\n",
       " 207.66768068820238,\n",
       " 161.6604362996295,\n",
       " 141.80214098468423,\n",
       " 125.46375386975706,\n",
       " 113.23060313798487,\n",
       " 105.03927972819656,\n",
       " 96.17975116590969,\n",
       " 86.58435740834102,\n",
       " 80.72209519753233]"
      ]
     },
     "execution_count": 22,
     "metadata": {},
     "output_type": "execute_result"
    }
   ],
   "source": [
    "training_loop(Net)"
   ]
  },
  {
   "cell_type": "code",
   "execution_count": 23,
   "metadata": {},
   "outputs": [
    {
     "name": "stdout",
     "output_type": "stream",
     "text": [
      "Accuracy of the network on the 10000 test images: 95 %\n"
     ]
    },
    {
     "data": {
      "text/plain": [
       "(9578, 10000)"
      ]
     },
     "execution_count": 23,
     "metadata": {},
     "output_type": "execute_result"
    }
   ],
   "source": [
    "run_test(Net)"
   ]
  },
  {
   "cell_type": "markdown",
   "metadata": {},
   "source": [
    "##### FFF net test on MNIST"
   ]
  },
  {
   "cell_type": "code",
   "execution_count": 26,
   "metadata": {},
   "outputs": [],
   "source": [
    "Net = F3_net()"
   ]
  },
  {
   "cell_type": "code",
   "execution_count": 27,
   "metadata": {},
   "outputs": [
    {
     "name": "stderr",
     "output_type": "stream",
     "text": [
      "100%|██████████| 10/10 [02:31<00:00, 15.11s/it]"
     ]
    },
    {
     "name": "stdout",
     "output_type": "stream",
     "text": [
      "Finished Training\n"
     ]
    },
    {
     "name": "stderr",
     "output_type": "stream",
     "text": [
      "\n"
     ]
    },
    {
     "data": {
      "text/plain": [
       "[716.391123495996,\n",
       " 345.879173733294,\n",
       " 277.3338041976094,\n",
       " 245.78006969578564,\n",
       " 220.5651059858501,\n",
       " 204.77407950535417,\n",
       " 189.74800446256995,\n",
       " 176.06425451952964,\n",
       " 170.36389563046396,\n",
       " 162.86117041297257]"
      ]
     },
     "execution_count": 27,
     "metadata": {},
     "output_type": "execute_result"
    }
   ],
   "source": [
    "training_loop(Net)"
   ]
  },
  {
   "cell_type": "code",
   "execution_count": 28,
   "metadata": {},
   "outputs": [
    {
     "name": "stdout",
     "output_type": "stream",
     "text": [
      "Accuracy of the network on the 10000 test images: 93 %\n"
     ]
    },
    {
     "data": {
      "text/plain": [
       "(9394, 10000)"
      ]
     },
     "execution_count": 28,
     "metadata": {},
     "output_type": "execute_result"
    }
   ],
   "source": [
    "run_test(Net)"
   ]
  },
  {
   "cell_type": "code",
   "execution_count": null,
   "metadata": {},
   "outputs": [],
   "source": []
  }
 ],
 "metadata": {
  "kernelspec": {
   "display_name": "pytorch",
   "language": "python",
   "name": "python3"
  },
  "language_info": {
   "codemirror_mode": {
    "name": "ipython",
    "version": 3
   },
   "file_extension": ".py",
   "mimetype": "text/x-python",
   "name": "python",
   "nbconvert_exporter": "python",
   "pygments_lexer": "ipython3",
   "version": "3.11.3"
  },
  "orig_nbformat": 4
 },
 "nbformat": 4,
 "nbformat_minor": 2
}
