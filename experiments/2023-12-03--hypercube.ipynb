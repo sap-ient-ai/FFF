{
 "cells": [
  {
   "cell_type": "markdown",
   "metadata": {},
   "source": [
    "# HyperCube\n",
    "\n",
    "🔴 Fail\n",
    "Trains well on MNIST (95%) but refuses to train above random chance on CIFAR10 (10%)\n",
    "\n",
    "The idea here is to have nHidden hidden nodes.\n",
    "\n",
    "Each has a .x .y1 and .y2\n",
    "\n",
    "We'll project the input x onto hidden.x getting λ\n",
    "\n",
    "If λ > 0 we'll use .y1, so: y += λ^2 hidden.y1, else use .y2\n",
    "\n",
    "So suppose we have nHidden = 8. Then we're making 8 decisions,\n",
    "which is 2^8 = 256 possible {something from Y1} {something from Y2} pairs.\n",
    "\n",
    "I'm using λ^2, as:\n",
    "- It's always positive, and we want a POSITIVE coeff whether we project to .y1 or .y2\n",
    "- λ^2 * {something bounded} will have a unique gradient at 0, whereas \n",
    "just bolting 2 vectors together at 0 will NOT.\n",
    "\n",
    "For CIFAR10, I've tried 2 configurations:\n",
    "```\n",
    "        self.fc1 = Hypercube(nIn=16 * 5 * 5, nOut=120, nHidden=12)\n",
    "        self.fc2 = Hypercube(nIn=120, nOut=84, nHidden=9)\n",
    "        self.fc3 = Hypercube(nIn=84, nOut=10, nHidden=6)\n",
    "```\n",
    "Also nHidden = (32, 16, 8) which I think is too high.  \n",
    "2^32 possibilities -- how could that ever train?"
   ]
  },
  {
   "cell_type": "code",
   "execution_count": 13,
   "metadata": {},
   "outputs": [],
   "source": [
    "import lovely_tensors as lt\n",
    "lt.monkey_patch()"
   ]
  },
  {
   "cell_type": "markdown",
   "metadata": {},
   "source": [
    "# 🔹 Dataloaders"
   ]
  },
  {
   "cell_type": "code",
   "execution_count": 1,
   "metadata": {},
   "outputs": [],
   "source": [
    "NBATCH, NBATCH_TEST = 128, -1\n"
   ]
  },
  {
   "cell_type": "code",
   "execution_count": 2,
   "metadata": {},
   "outputs": [],
   "source": [
    "# Load MNIST\n",
    "from torch.utils.data import DataLoader\n",
    "from torchvision import datasets, transforms\n",
    "\n",
    "def load_MNIST():\n",
    "    # Transformations\n",
    "    transform = transforms.Compose([transforms.ToTensor(), transforms.Normalize((0.5,), (0.5,))])\n",
    "\n",
    "    # MNIST dataset\n",
    "    trainset = datasets.MNIST(root='./data', train=True, download=True, transform=transform)\n",
    "    testset = datasets.MNIST(root='./data', train=False, download=True, transform=transform)\n",
    "\n",
    "    # Data loaders\n",
    "    nTest = NBATCH_TEST if NBATCH_TEST > 0 else len(testset)\n",
    "    trainloader = DataLoader(trainset, batch_size=NBATCH, shuffle=True)\n",
    "    testloader = DataLoader(testset, batch_size=nTest, shuffle=False)\n",
    "\n",
    "    return trainloader, testloader\n",
    "\n",
    "# trainloader, testloader = load_MNIST()"
   ]
  },
  {
   "cell_type": "code",
   "execution_count": 3,
   "metadata": {},
   "outputs": [],
   "source": [
    "def load_CIFAR10():\n",
    "    transform = transforms.Compose([\n",
    "        transforms.ToTensor(),\n",
    "        transforms.Normalize((0.5, 0.5, 0.5), (0.5, 0.5, 0.5))\n",
    "    ])\n",
    "\n",
    "    # https://github.com/microsoft/debugpy/issues/1166\n",
    "    # ^ set nWorkers=1 to avoid this\n",
    "    def create_dataloader(train, nBatch, shuffle, nWorkers=1):\n",
    "        dataset = datasets.CIFAR10(\n",
    "            root='./data', train=train, download=True, transform=transform\n",
    "        )\n",
    "        return DataLoader(\n",
    "            dataset, batch_size=nBatch, shuffle=shuffle, num_workers=nWorkers\n",
    "        )\n",
    "\n",
    "    nTest = NBATCH_TEST if NBATCH_TEST > 0 else 1024\n",
    "    trainloader = create_dataloader(train=True, nBatch=NBATCH, shuffle=True)\n",
    "    testloader = create_dataloader(train=False, nBatch=1024, shuffle=False)\n",
    "\n",
    "    # Class labels\n",
    "    # classes = 'plane car bird cat deer dog frog horse ship truck'.split()\n",
    "    \n",
    "    return trainloader, testloader  #, classes\n",
    "\n",
    "# trainloader, testloader, classes = load_CIFAR10()\n"
   ]
  },
  {
   "cell_type": "code",
   "execution_count": 4,
   "metadata": {},
   "outputs": [
    {
     "name": "stdout",
     "output_type": "stream",
     "text": [
      "Files already downloaded and verified\n",
      "Files already downloaded and verified\n"
     ]
    },
    {
     "data": {
      "text/plain": [
       "tensor([5, 4, 5, 9, 6, 9, 4, 6, 9, 3])"
      ]
     },
     "execution_count": 4,
     "metadata": {},
     "output_type": "execute_result"
    }
   ],
   "source": [
    "trainloader, testloader = load_CIFAR10()\n",
    "\n",
    "batch = next(iter(trainloader))\n",
    "images, labels = batch\n",
    "labels[:10]"
   ]
  },
  {
   "cell_type": "markdown",
   "metadata": {},
   "source": [
    "# 🔹 Test Harness"
   ]
  },
  {
   "cell_type": "code",
   "execution_count": 7,
   "metadata": {},
   "outputs": [],
   "source": [
    "NEPOCH = 10\n",
    "EVERY_N = -1\n",
    "\n",
    "import torch\n",
    "from tqdm import tqdm\n",
    "\n",
    "# Test harness\n",
    "# We'll use this later\n",
    "# def orthogonality_loss(basis_vectors):\n",
    "#     # Compute pairwise dot products\n",
    "#     dot_products = torch.matmul(basis_vectors, basis_vectors.T)\n",
    "    \n",
    "#     # Zero out diagonal elements (self dot products)\n",
    "#     eye = torch.eye(dot_products.size(0)).to(dot_products.device)\n",
    "#     dot_products = dot_products * (1 - eye)\n",
    "    \n",
    "#     # Sum of squares of off-diagonal elements (which should be close to zero)\n",
    "#     loss = (dot_products ** 2).sum()\n",
    "#     return loss\n",
    "\n",
    "def train_and_test(net, dataloader, nEpoch=NEPOCH):\n",
    "    trainloader, testloader = dataloader()\n",
    "\n",
    "    # Loss function and optimizer\n",
    "    criterion = torch.nn.CrossEntropyLoss()\n",
    "    optimizer = torch.optim.AdamW(net.parameters(), lr=0.001) #, momentum=0.9)\n",
    "\n",
    "    # Training the network\n",
    "    for epoch in tqdm(range(nEpoch)):  # loop over the dataset multiple times\n",
    "        running_loss = 0.0\n",
    "        for i, (inputs, labels) in enumerate(trainloader):\n",
    "            optimizer.zero_grad()\n",
    "            outputs = net(inputs)\n",
    "            loss = criterion(outputs, labels)\n",
    "            if hasattr(net, 'loss'):\n",
    "                loss += net.loss()\n",
    "            loss.backward()\n",
    "            optimizer.step()\n",
    "\n",
    "            running_loss += loss.item()\n",
    "            if i % EVERY_N == EVERY_N - 1:  # print EVERY_N mini-batches\n",
    "                print(f'[{epoch + 1}, {i + 1:5d}] loss: {running_loss / EVERY_N:.3f}')\n",
    "                running_loss = 0.0\n",
    "\n",
    "        # Testing the network on the test data\n",
    "        correct, total = 0, 0\n",
    "        with torch.no_grad():\n",
    "            for data in testloader:\n",
    "                images, labels = data\n",
    "                outputs = net(images)\n",
    "                _, predicted = torch.max(outputs.data, dim=1)\n",
    "                total += labels.size(0)\n",
    "                correct += (predicted == labels).sum().item()\n",
    "\n",
    "        print(f'[{epoch}] Accuracy of the network over test images: {100 * correct / total:.3f} %')\n"
   ]
  },
  {
   "cell_type": "markdown",
   "metadata": {},
   "source": [
    "# 🔹 use MNIST / FF to check it works"
   ]
  },
  {
   "cell_type": "code",
   "execution_count": 8,
   "metadata": {},
   "outputs": [
    {
     "name": "stderr",
     "output_type": "stream",
     "text": [
      "100%|██████████| 1/1 [00:03<00:00,  3.15s/it]"
     ]
    },
    {
     "name": "stdout",
     "output_type": "stream",
     "text": [
      "[0] Accuracy of the network over test images: 93.380 %\n"
     ]
    },
    {
     "name": "stderr",
     "output_type": "stream",
     "text": [
      "\n"
     ]
    }
   ],
   "source": [
    "# Neural network architecture\n",
    "class Net(torch.nn.Module):\n",
    "    def __init__(self):\n",
    "        super(Net, self).__init__()\n",
    "        self.fc1 = torch.nn.Linear(in_features=28*28, out_features=500)\n",
    "        self.fc2 = torch.nn.Linear(in_features=500, out_features=10)\n",
    "    def forward(self, x):\n",
    "        x = x.view(-1, 28*28)\n",
    "        y_hat = self.fc2(torch.relu(self.fc1(x)))\n",
    "        # y_hat = self.fc2(self.fc1(x))\n",
    "        return y_hat\n",
    "    # def loss(self):\n",
    "    #     # Calculate orthogonality loss for each PiSlice layer\n",
    "    #     loss1 = orthogonality_loss(self.fc1.X) + orthogonality_loss(self.fc1.Y)\n",
    "    #     loss2 = orthogonality_loss(self.fc2.X) + orthogonality_loss(self.fc2.Y)\n",
    "    #     return loss1 + loss2\n",
    "\n",
    "train_and_test(Net(), dataloader=load_MNIST, nEpoch=1)"
   ]
  },
  {
   "cell_type": "markdown",
   "metadata": {},
   "source": [
    "# 🔸 FFF (with full-tree training)"
   ]
  },
  {
   "cell_type": "code",
   "execution_count": 9,
   "metadata": {},
   "outputs": [],
   "source": [
    "INIT_STRAT = 'hyperspherical-shell'\n",
    "# DEPTH = 8"
   ]
  },
  {
   "cell_type": "code",
   "execution_count": 42,
   "metadata": {},
   "outputs": [
    {
     "name": "stdout",
     "output_type": "stream",
     "text": [
      "Testing training:\n",
      "x.grad: tensor[3, 10] n=30 x∈[-1.903, 0.784] μ=-0.476 σ=0.641\n",
      "Testing inference:\n",
      "y: tensor[3, 12] n=36 x∈[-4.254, 3.159] μ=-0.221 σ=1.782 grad SumBackward1\n"
     ]
    }
   ],
   "source": [
    "import torch\n",
    "from torch.nn.functional import normalize\n",
    "\n",
    "from typing import Optional\n",
    "from math import floor, log2, sqrt\n",
    "\n",
    "class Hypercube(torch.nn.Module):\n",
    "    def __init__(self, nIn:int, nOut:int, nHidden:int):\n",
    "        super().__init__()\n",
    "        # self.nDim = nDim or int(floor(log2(nIn)))  # depth is the number of decision boundaries\n",
    "\n",
    "        # each node \"holds\" a basis-vector in INPUT space (.X) and in OUTPUT space (.Y)\n",
    "\n",
    "        # if INIT_STRAT == 'gaussian':\n",
    "        #     # This from orig authors; scaling looks off for self.Y\n",
    "        #     def create_basis_vectors_of(length, scaling):\n",
    "        #         return torch.nn.Parameter(torch.empty(nNodes, length).uniform_(-scaling, scaling))\n",
    "        #     self.X = create_basis_vectors_of(length=nIn, scaling=1/sqrt(nIn))\n",
    "        #     self.Y = create_basis_vectors_of(length=nOut, scaling=1/sqrt(self.depth + 1))\n",
    "\n",
    "        if INIT_STRAT == 'hyperspherical-shell':\n",
    "            # Initialize vectors on INPUT/OUTPUT space unit hypersphere\n",
    "            #   (idea: basis vectors should be of unit length).\n",
    "            def unit_vectors(shape):\n",
    "                weights = torch.randn(shape)  # Initialize weights randomly\n",
    "                weights = normalize(weights, p=2, dim=-1)  # L2-Normalize along the last dimension\n",
    "                return torch.nn.Parameter(weights)\n",
    "            self.X = unit_vectors((nHidden, nIn))\n",
    "            self.Y = unit_vectors((2, nHidden, nOut))\n",
    "\n",
    "            # self.loss = None\n",
    "\n",
    "    def forward(self, x:torch.Tensor):\n",
    "        nBatch, nOut, nHidden = len(x), self.Y.shape[-1], len(self.X)\n",
    "        # is_training = x.requires_grad\n",
    "    \n",
    "        # Walk the tree, assembling y piecemeal\n",
    "        y = torch.zeros((nBatch, nOut), dtype=torch.float, device=x.device, requires_grad=True)\n",
    "        \n",
    "        # loss = torch.tensor(0.0, requires_grad=True)  # scalar tensor\n",
    "        # this would be wrong (1D tensor not same as scalar)\n",
    "        # loss = torch.zeros(1, requires_grad=True)\n",
    "\n",
    "        # Project x onto the current node's INPUT basis vector\n",
    "        #   λ = x DOT currNode.X\n",
    "        # (nBatch, nIn) (nHidden, nIn) -> nBatch, nHidden\n",
    "        λ = torch.einsum('bi, hi -> bh', x, self.X)\n",
    "        λλ = λ**2\n",
    "\n",
    "        splitter_indices = (λ >= 0).long()  # (nBatch, nHidden)\n",
    "\n",
    "        # (2, nHidden, nOut)\n",
    "        splitter_indices_expanded = splitter_indices.unsqueeze(-1).expand(-1, -1, nOut)\n",
    "\n",
    "        # self.Y: (2, nHidden, nOut)\n",
    "        selected_Y = torch.gather(self.Y, 0, splitter_indices_expanded)\n",
    "\n",
    "        scaled_chosen_Ys = λλ.unsqueeze(-1) * selected_Y\n",
    "\n",
    "        y = torch.sum(scaled_chosen_Ys, axis=1)\n",
    "        return y\n",
    "\n",
    "    def __repr__(self):\n",
    "        return f\"FFF({self.X.shape[-1]}, {self.Y.shape[-1]}, depth={self.depth})\"\n",
    "\n",
    "\n",
    "# sanity check\n",
    "nBatch, nIn, nHidden, nOut = 3, 10, 8, 12 \n",
    "fff = Hypercube(nIn, nOut, nHidden)\n",
    "\n",
    "print('Testing training:')\n",
    "x = torch.randn((nBatch, nIn), requires_grad=True)\n",
    "y = fff(x)\n",
    "# print('loss:', fff.loss)\n",
    "cost = torch.norm(y)\n",
    "cost.backward()\n",
    "print('x.grad:', x.grad)\n",
    "\n",
    "print('Testing inference:')\n",
    "x = torch.randn((nBatch, nIn), requires_grad=False)\n",
    "y = fff(x)\n",
    "# print('loss:', fff.loss)\n",
    "print('y:', y)\n"
   ]
  },
  {
   "cell_type": "code",
   "execution_count": 43,
   "metadata": {},
   "outputs": [
    {
     "name": "stdout",
     "output_type": "stream",
     "text": [
      "[[[1 1]\n",
      "  [0 0]\n",
      "  [1 1]]\n",
      "\n",
      " [[0 0]\n",
      "  [1 1]\n",
      "  [0 0]]]\n",
      "[[[ 1  2]\n",
      "  [ 3  4]\n",
      "  [ 5  6]]\n",
      "\n",
      " [[ 7  8]\n",
      "  [ 9 10]\n",
      "  [11 12]]]\n",
      "[[[ 7  8]\n",
      "  [ 3  4]\n",
      "  [11 12]]\n",
      "\n",
      " [[ 1  2]\n",
      "  [ 9 10]\n",
      "  [ 5  6]]]\n"
     ]
    },
    {
     "data": {
      "text/plain": [
       "True"
      ]
     },
     "execution_count": 43,
     "metadata": {},
     "output_type": "execute_result"
    }
   ],
   "source": [
    "import torch\n",
    "import numpy as np\n",
    "\n",
    "# Manual initialization of smaller sample tensor shapes for easier output inspection\n",
    "nBatch = 2\n",
    "nHidden = 3\n",
    "nOut = 2\n",
    "\n",
    "# Manually create sample data in PyTorch with specific values for easy verification\n",
    "Y = torch.tensor([[[1, 2], [3, 4], [5, 6]],  # left\n",
    "                  [[7, 8], [9, 10], [11, 12]]])  # right\n",
    "lambd = torch.tensor([[1, 2, 3],  # batch item 0\n",
    "                      [4, 5, 6]])  # batch item 1\n",
    "splitter = torch.tensor([[True, False, True],  # batch item 0\n",
    "                         [False, True, False]])  # batch item 1\n",
    "\n",
    "# Convert boolean splitter to integer indices (0 or 1) for PyTorch\n",
    "splitter_indices = splitter.long()\n",
    "\n",
    "# Explicit looping\n",
    "result_loop = torch.zeros((nBatch, nHidden, nOut))\n",
    "for b in range(nBatch):\n",
    "    for h in range(nHidden):\n",
    "        selected_Y_slice = Y[splitter_indices[b, h], h, :]\n",
    "        result_loop[b, h, :] = lambd[b, h] * selected_Y_slice\n",
    "\n",
    "# Without explicit looping using torch.gather and element-wise multiplication\n",
    "splitter_indices_expanded = splitter_indices.unsqueeze(-1).expand(-1, -1, Y.size(-1))\n",
    "selected_Y = torch.gather(Y, 0, splitter_indices_expanded)\n",
    "result_no_loop = lambd.unsqueeze(-1) * selected_Y\n",
    "\n",
    "print(splitter_indices_expanded.numpy())\n",
    "print(Y.numpy())\n",
    "print(selected_Y.numpy())\n",
    "\n",
    "torch.allclose(result_loop, result_no_loop.float())\n",
    "\n"
   ]
  },
  {
   "cell_type": "markdown",
   "metadata": {},
   "source": [
    "# 🧪 Test it out on MNIST"
   ]
  },
  {
   "cell_type": "code",
   "execution_count": 49,
   "metadata": {},
   "outputs": [
    {
     "name": "stderr",
     "output_type": "stream",
     "text": [
      "  0%|          | 0/10 [00:00<?, ?it/s]"
     ]
    },
    {
     "name": "stderr",
     "output_type": "stream",
     "text": [
      " 10%|█         | 1/10 [00:04<00:42,  4.75s/it]"
     ]
    },
    {
     "name": "stdout",
     "output_type": "stream",
     "text": [
      "[0] Accuracy of the network over test images: 93.780 %\n"
     ]
    },
    {
     "name": "stderr",
     "output_type": "stream",
     "text": [
      " 20%|██        | 2/10 [00:09<00:37,  4.69s/it]"
     ]
    },
    {
     "name": "stdout",
     "output_type": "stream",
     "text": [
      "[1] Accuracy of the network over test images: 94.590 %\n"
     ]
    },
    {
     "name": "stderr",
     "output_type": "stream",
     "text": [
      " 30%|███       | 3/10 [00:14<00:32,  4.66s/it]"
     ]
    },
    {
     "name": "stdout",
     "output_type": "stream",
     "text": [
      "[2] Accuracy of the network over test images: 94.870 %\n"
     ]
    },
    {
     "name": "stderr",
     "output_type": "stream",
     "text": [
      " 40%|████      | 4/10 [00:18<00:28,  4.68s/it]"
     ]
    },
    {
     "name": "stdout",
     "output_type": "stream",
     "text": [
      "[3] Accuracy of the network over test images: 95.280 %\n"
     ]
    },
    {
     "name": "stderr",
     "output_type": "stream",
     "text": [
      " 50%|█████     | 5/10 [00:23<00:23,  4.68s/it]"
     ]
    },
    {
     "name": "stdout",
     "output_type": "stream",
     "text": [
      "[4] Accuracy of the network over test images: 94.660 %\n"
     ]
    },
    {
     "name": "stderr",
     "output_type": "stream",
     "text": [
      " 60%|██████    | 6/10 [00:28<00:18,  4.70s/it]"
     ]
    },
    {
     "name": "stdout",
     "output_type": "stream",
     "text": [
      "[5] Accuracy of the network over test images: 96.160 %\n"
     ]
    },
    {
     "name": "stderr",
     "output_type": "stream",
     "text": [
      " 70%|███████   | 7/10 [00:32<00:14,  4.69s/it]"
     ]
    },
    {
     "name": "stdout",
     "output_type": "stream",
     "text": [
      "[6] Accuracy of the network over test images: 96.760 %\n"
     ]
    },
    {
     "name": "stderr",
     "output_type": "stream",
     "text": [
      " 80%|████████  | 8/10 [00:37<00:09,  4.71s/it]"
     ]
    },
    {
     "name": "stdout",
     "output_type": "stream",
     "text": [
      "[7] Accuracy of the network over test images: 95.290 %\n"
     ]
    },
    {
     "name": "stderr",
     "output_type": "stream",
     "text": [
      " 90%|█████████ | 9/10 [00:42<00:04,  4.71s/it]"
     ]
    },
    {
     "name": "stdout",
     "output_type": "stream",
     "text": [
      "[8] Accuracy of the network over test images: 96.530 %\n"
     ]
    },
    {
     "name": "stderr",
     "output_type": "stream",
     "text": [
      "100%|██████████| 10/10 [00:46<00:00,  4.70s/it]"
     ]
    },
    {
     "name": "stdout",
     "output_type": "stream",
     "text": [
      "[9] Accuracy of the network over test images: 96.680 %\n"
     ]
    },
    {
     "name": "stderr",
     "output_type": "stream",
     "text": [
      "\n"
     ]
    }
   ],
   "source": [
    "# Neural network architecture\n",
    "class Net(torch.nn.Module):\n",
    "    def __init__(self):\n",
    "        super(Net, self).__init__()\n",
    "        self.fc1 = Hypercube(nIn=28*28, nOut=500, nHidden=32)\n",
    "        self.fc2 = Hypercube(nIn=500, nOut=10, nHidden=8)\n",
    "\n",
    "    def forward(self, x):\n",
    "        x = x.view(-1, 28*28)\n",
    "        y_hat = self.fc2(torch.relu(self.fc1(x)))\n",
    "        # y_hat = self.fc2(self.fc1(x))\n",
    "        return y_hat\n",
    "\n",
    "    # def loss(self):\n",
    "    #     # Calculate orthogonality loss for each PiSlice layer\n",
    "    #     # loss1 = orthogonality_loss(self.fc1.X) + orthogonality_loss(self.fc1.Y)\n",
    "    #     # loss2 = orthogonality_loss(self.fc2.X) + orthogonality_loss(self.fc2.Y)\n",
    "    #     # return loss1 + loss2\n",
    "    #     return 0.01 * (self.fc1.loss + self.fc2.loss)\n",
    "\n",
    "train_and_test(Net(), load_MNIST, nEpoch=10)\n",
    "# train_and_test(Net(), ortho=True)"
   ]
  },
  {
   "cell_type": "markdown",
   "metadata": {},
   "source": [
    "# 🧪 Test it out on CIFAR10"
   ]
  },
  {
   "cell_type": "code",
   "execution_count": 61,
   "metadata": {},
   "outputs": [],
   "source": [
    "import torch.nn as nn\n",
    "from torch.nn.functional import relu\n",
    "\n",
    "class Net_regular(nn.Module):\n",
    "    def __init__(self):\n",
    "        super().__init__()\n",
    "        self.conv1 = nn.Conv2d(in_channels=3, out_channels=6, kernel_size=5)\n",
    "        self.pool = nn.MaxPool2d(kernel_size=2, stride=2)\n",
    "        self.conv2 = nn.Conv2d(in_channels=6, out_channels=16, kernel_size=5)\n",
    "        self.fc1 = nn.Linear(in_features=16 * 5 * 5, out_features=120)\n",
    "        self.fc2 = nn.Linear(in_features=120, out_features=84)\n",
    "        self.fc3 = nn.Linear(in_features=84, out_features=10)\n",
    "\n",
    "    def forward(self, x):\n",
    "        x = self.pool(relu(self.conv1(x)))\n",
    "        x = self.pool(relu(self.conv2(x)))\n",
    "        x = torch.flatten(x, start_dim=1)\n",
    "        x = relu(self.fc1(x))\n",
    "        x = relu(self.fc2(x))\n",
    "        x = self.fc3(x)\n",
    "        return x\n",
    "\n",
    "class Net_Hypercube(nn.Module):\n",
    "    def __init__(self):\n",
    "        super().__init__()\n",
    "        self.conv1 = nn.Conv2d(in_channels=3, out_channels=6, kernel_size=5)\n",
    "        self.pool = nn.MaxPool2d(kernel_size=2, stride=2)\n",
    "        self.conv2 = nn.Conv2d(in_channels=6, out_channels=16, kernel_size=5)\n",
    "        self.fc1 = Hypercube(nIn=16 * 5 * 5, nOut=120, nHidden=4)\n",
    "        self.fc2 = Hypercube(nIn=120, nOut=84, nHidden=3)\n",
    "        self.fc3 = Hypercube(nIn=84, nOut=10, nHidden=2)\n",
    "\n",
    "    def forward(self, x):\n",
    "        x = self.pool(relu(self.conv1(x)))\n",
    "        x = self.pool(relu(self.conv2(x)))\n",
    "        x = torch.flatten(x, start_dim=1)\n",
    "        x = relu(self.fc1(x))\n",
    "        x = relu(self.fc2(x))\n",
    "        x = self.fc3(x)\n",
    "        return x\n",
    "    \n",
    "    # def loss(self):\n",
    "    #     return 0.01 * (self.fc1.loss + self.fc2.loss + self.fc3.loss)\n"
   ]
  },
  {
   "cell_type": "code",
   "execution_count": 59,
   "metadata": {},
   "outputs": [],
   "source": [
    "# Disable this:\n",
    "'''\n",
    "Files already downloaded and verified\n",
    "Files already downloaded and verified\n",
    "  0%|          | 0/10 [00:00<?, ?it/s]0.00s - Debugger warning: It seems that frozen modules are being used, which may\n",
    "0.00s - make the debugger miss breakpoints. Please pass -Xfrozen_modules=off\n",
    "0.00s - to python to disable frozen modules.\n",
    "0.00s - Note: Debugging will proceed. Set PYDEVD_DISABLE_FILE_VALIDATION=1 to disable this validation.\n",
    "0.00s - Debugger warning: It seems that frozen modules are being used, which may\n",
    "0.00s - make the debugger miss breakpoints. Please pass -Xfrozen_modules=off\n",
    "0.00s - to python to disable frozen modules.\n",
    "0.00s - Note: Debugging will proceed. Set PYDEVD_DISABLE_FILE_VALIDATION=1 to disable this validation.\n",
    "'''\n",
    "\n",
    "import os\n",
    "os.environ['PYDEVD_DISABLE_FILE_VALIDATION'] = '1'"
   ]
  },
  {
   "cell_type": "code",
   "execution_count": 54,
   "metadata": {},
   "outputs": [
    {
     "name": "stdout",
     "output_type": "stream",
     "text": [
      "Files already downloaded and verified\n",
      "Files already downloaded and verified\n"
     ]
    },
    {
     "name": "stderr",
     "output_type": "stream",
     "text": [
      " 10%|█         | 1/10 [00:25<03:47, 25.31s/it]"
     ]
    },
    {
     "name": "stdout",
     "output_type": "stream",
     "text": [
      "[0] Accuracy of the network over test images: 45.200 %\n"
     ]
    },
    {
     "name": "stderr",
     "output_type": "stream",
     "text": [
      " 20%|██        | 2/10 [00:49<03:19, 24.91s/it]"
     ]
    },
    {
     "name": "stdout",
     "output_type": "stream",
     "text": [
      "[1] Accuracy of the network over test images: 49.520 %\n"
     ]
    },
    {
     "name": "stderr",
     "output_type": "stream",
     "text": [
      " 30%|███       | 3/10 [01:14<02:54, 24.91s/it]"
     ]
    },
    {
     "name": "stdout",
     "output_type": "stream",
     "text": [
      "[2] Accuracy of the network over test images: 50.890 %\n"
     ]
    },
    {
     "name": "stderr",
     "output_type": "stream",
     "text": [
      " 40%|████      | 4/10 [01:38<02:27, 24.55s/it]"
     ]
    },
    {
     "name": "stdout",
     "output_type": "stream",
     "text": [
      "[3] Accuracy of the network over test images: 55.410 %\n"
     ]
    },
    {
     "name": "stderr",
     "output_type": "stream",
     "text": [
      " 50%|█████     | 5/10 [02:03<02:02, 24.45s/it]"
     ]
    },
    {
     "name": "stdout",
     "output_type": "stream",
     "text": [
      "[4] Accuracy of the network over test images: 57.620 %\n"
     ]
    },
    {
     "name": "stderr",
     "output_type": "stream",
     "text": [
      " 60%|██████    | 6/10 [02:27<01:38, 24.56s/it]"
     ]
    },
    {
     "name": "stdout",
     "output_type": "stream",
     "text": [
      "[5] Accuracy of the network over test images: 59.460 %\n"
     ]
    },
    {
     "name": "stderr",
     "output_type": "stream",
     "text": [
      " 70%|███████   | 7/10 [02:52<01:13, 24.59s/it]"
     ]
    },
    {
     "name": "stdout",
     "output_type": "stream",
     "text": [
      "[6] Accuracy of the network over test images: 59.540 %\n"
     ]
    },
    {
     "name": "stderr",
     "output_type": "stream",
     "text": [
      " 80%|████████  | 8/10 [03:17<00:49, 24.72s/it]"
     ]
    },
    {
     "name": "stdout",
     "output_type": "stream",
     "text": [
      "[7] Accuracy of the network over test images: 60.220 %\n"
     ]
    },
    {
     "name": "stderr",
     "output_type": "stream",
     "text": [
      " 90%|█████████ | 9/10 [03:41<00:24, 24.60s/it]"
     ]
    },
    {
     "name": "stdout",
     "output_type": "stream",
     "text": [
      "[8] Accuracy of the network over test images: 61.560 %\n"
     ]
    },
    {
     "name": "stderr",
     "output_type": "stream",
     "text": [
      "100%|██████████| 10/10 [04:06<00:00, 24.63s/it]"
     ]
    },
    {
     "name": "stdout",
     "output_type": "stream",
     "text": [
      "[9] Accuracy of the network over test images: 62.020 %\n"
     ]
    },
    {
     "name": "stderr",
     "output_type": "stream",
     "text": [
      "\n"
     ]
    }
   ],
   "source": [
    "# net = Net_regular()\n",
    "train_and_test(Net_regular(), dataloader=load_CIFAR10, nEpoch=10)"
   ]
  },
  {
   "cell_type": "code",
   "execution_count": 62,
   "metadata": {},
   "outputs": [
    {
     "name": "stdout",
     "output_type": "stream",
     "text": [
      "Files already downloaded and verified\n",
      "Files already downloaded and verified\n"
     ]
    },
    {
     "name": "stderr",
     "output_type": "stream",
     "text": [
      " 10%|█         | 1/10 [00:24<03:40, 24.48s/it]"
     ]
    },
    {
     "name": "stdout",
     "output_type": "stream",
     "text": [
      "[0] Accuracy of the network over test images: 10.380 %\n"
     ]
    },
    {
     "name": "stderr",
     "output_type": "stream",
     "text": [
      " 20%|██        | 2/10 [00:48<03:14, 24.30s/it]"
     ]
    },
    {
     "name": "stdout",
     "output_type": "stream",
     "text": [
      "[1] Accuracy of the network over test images: 10.380 %\n"
     ]
    },
    {
     "name": "stderr",
     "output_type": "stream",
     "text": [
      " 30%|███       | 3/10 [01:12<02:50, 24.30s/it]"
     ]
    },
    {
     "name": "stdout",
     "output_type": "stream",
     "text": [
      "[2] Accuracy of the network over test images: 10.380 %\n"
     ]
    },
    {
     "name": "stderr",
     "output_type": "stream",
     "text": [
      " 40%|████      | 4/10 [01:37<02:26, 24.41s/it]"
     ]
    },
    {
     "name": "stdout",
     "output_type": "stream",
     "text": [
      "[3] Accuracy of the network over test images: 10.340 %\n"
     ]
    },
    {
     "name": "stderr",
     "output_type": "stream",
     "text": [
      " 50%|█████     | 5/10 [02:02<02:02, 24.45s/it]"
     ]
    },
    {
     "name": "stdout",
     "output_type": "stream",
     "text": [
      "[4] Accuracy of the network over test images: 10.350 %\n"
     ]
    },
    {
     "name": "stderr",
     "output_type": "stream",
     "text": [
      " 50%|█████     | 5/10 [02:11<02:11, 26.20s/it]\n"
     ]
    },
    {
     "ename": "KeyboardInterrupt",
     "evalue": "",
     "output_type": "error",
     "traceback": [
      "\u001b[0;31m---------------------------------------------------------------------------\u001b[0m",
      "\u001b[0;31mKeyboardInterrupt\u001b[0m                         Traceback (most recent call last)",
      "\u001b[1;32m/Users/pi/code/m2/fff/FFF/experiments/2023-12-03--hypercube.ipynb Cell 22\u001b[0m line \u001b[0;36m1\n\u001b[0;32m----> <a href='vscode-notebook-cell:/Users/pi/code/m2/fff/FFF/experiments/2023-12-03--hypercube.ipynb#X26sZmlsZQ%3D%3D?line=0'>1</a>\u001b[0m train_and_test(Net_Hypercube(), dataloader\u001b[39m=\u001b[39;49mload_CIFAR10, nEpoch\u001b[39m=\u001b[39;49m\u001b[39m10\u001b[39;49m)\n",
      "\u001b[1;32m/Users/pi/code/m2/fff/FFF/experiments/2023-12-03--hypercube.ipynb Cell 22\u001b[0m line \u001b[0;36m3\n\u001b[1;32m     <a href='vscode-notebook-cell:/Users/pi/code/m2/fff/FFF/experiments/2023-12-03--hypercube.ipynb#X26sZmlsZQ%3D%3D?line=34'>35</a>\u001b[0m \u001b[39mif\u001b[39;00m \u001b[39mhasattr\u001b[39m(net, \u001b[39m'\u001b[39m\u001b[39mloss\u001b[39m\u001b[39m'\u001b[39m):\n\u001b[1;32m     <a href='vscode-notebook-cell:/Users/pi/code/m2/fff/FFF/experiments/2023-12-03--hypercube.ipynb#X26sZmlsZQ%3D%3D?line=35'>36</a>\u001b[0m     loss \u001b[39m+\u001b[39m\u001b[39m=\u001b[39m net\u001b[39m.\u001b[39mloss()\n\u001b[0;32m---> <a href='vscode-notebook-cell:/Users/pi/code/m2/fff/FFF/experiments/2023-12-03--hypercube.ipynb#X26sZmlsZQ%3D%3D?line=36'>37</a>\u001b[0m loss\u001b[39m.\u001b[39;49mbackward()\n\u001b[1;32m     <a href='vscode-notebook-cell:/Users/pi/code/m2/fff/FFF/experiments/2023-12-03--hypercube.ipynb#X26sZmlsZQ%3D%3D?line=37'>38</a>\u001b[0m optimizer\u001b[39m.\u001b[39mstep()\n\u001b[1;32m     <a href='vscode-notebook-cell:/Users/pi/code/m2/fff/FFF/experiments/2023-12-03--hypercube.ipynb#X26sZmlsZQ%3D%3D?line=39'>40</a>\u001b[0m running_loss \u001b[39m+\u001b[39m\u001b[39m=\u001b[39m loss\u001b[39m.\u001b[39mitem()\n",
      "File \u001b[0;32m~/code/m2/fff/FFF/.venv/lib/python3.11/site-packages/torch/_tensor.py:492\u001b[0m, in \u001b[0;36mTensor.backward\u001b[0;34m(self, gradient, retain_graph, create_graph, inputs)\u001b[0m\n\u001b[1;32m    482\u001b[0m \u001b[39mif\u001b[39;00m has_torch_function_unary(\u001b[39mself\u001b[39m):\n\u001b[1;32m    483\u001b[0m     \u001b[39mreturn\u001b[39;00m handle_torch_function(\n\u001b[1;32m    484\u001b[0m         Tensor\u001b[39m.\u001b[39mbackward,\n\u001b[1;32m    485\u001b[0m         (\u001b[39mself\u001b[39m,),\n\u001b[0;32m   (...)\u001b[0m\n\u001b[1;32m    490\u001b[0m         inputs\u001b[39m=\u001b[39minputs,\n\u001b[1;32m    491\u001b[0m     )\n\u001b[0;32m--> 492\u001b[0m torch\u001b[39m.\u001b[39;49mautograd\u001b[39m.\u001b[39;49mbackward(\n\u001b[1;32m    493\u001b[0m     \u001b[39mself\u001b[39;49m, gradient, retain_graph, create_graph, inputs\u001b[39m=\u001b[39;49minputs\n\u001b[1;32m    494\u001b[0m )\n",
      "File \u001b[0;32m~/code/m2/fff/FFF/.venv/lib/python3.11/site-packages/torch/autograd/__init__.py:251\u001b[0m, in \u001b[0;36mbackward\u001b[0;34m(tensors, grad_tensors, retain_graph, create_graph, grad_variables, inputs)\u001b[0m\n\u001b[1;32m    246\u001b[0m     retain_graph \u001b[39m=\u001b[39m create_graph\n\u001b[1;32m    248\u001b[0m \u001b[39m# The reason we repeat the same comment below is that\u001b[39;00m\n\u001b[1;32m    249\u001b[0m \u001b[39m# some Python versions print out the first line of a multi-line function\u001b[39;00m\n\u001b[1;32m    250\u001b[0m \u001b[39m# calls in the traceback and some print out the last line\u001b[39;00m\n\u001b[0;32m--> 251\u001b[0m Variable\u001b[39m.\u001b[39;49m_execution_engine\u001b[39m.\u001b[39;49mrun_backward(  \u001b[39m# Calls into the C++ engine to run the backward pass\u001b[39;49;00m\n\u001b[1;32m    252\u001b[0m     tensors,\n\u001b[1;32m    253\u001b[0m     grad_tensors_,\n\u001b[1;32m    254\u001b[0m     retain_graph,\n\u001b[1;32m    255\u001b[0m     create_graph,\n\u001b[1;32m    256\u001b[0m     inputs,\n\u001b[1;32m    257\u001b[0m     allow_unreachable\u001b[39m=\u001b[39;49m\u001b[39mTrue\u001b[39;49;00m,\n\u001b[1;32m    258\u001b[0m     accumulate_grad\u001b[39m=\u001b[39;49m\u001b[39mTrue\u001b[39;49;00m,\n\u001b[1;32m    259\u001b[0m )\n",
      "\u001b[0;31mKeyboardInterrupt\u001b[0m: "
     ]
    }
   ],
   "source": [
    "train_and_test(Net_Hypercube(), dataloader=load_CIFAR10, nEpoch=10)\n"
   ]
  },
  {
   "cell_type": "code",
   "execution_count": null,
   "metadata": {},
   "outputs": [],
   "source": []
  }
 ],
 "metadata": {
  "kernelspec": {
   "display_name": ".venv",
   "language": "python",
   "name": "python3"
  },
  "language_info": {
   "codemirror_mode": {
    "name": "ipython",
    "version": 3
   },
   "file_extension": ".py",
   "mimetype": "text/x-python",
   "name": "python",
   "nbconvert_exporter": "python",
   "pygments_lexer": "ipython3",
   "version": "3.11.6"
  }
 },
 "nbformat": 4,
 "nbformat_minor": 2
}
